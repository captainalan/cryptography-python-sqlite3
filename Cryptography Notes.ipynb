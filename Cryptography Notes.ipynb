{
 "cells": [
  {
   "cell_type": "markdown",
   "metadata": {},
   "source": [
    "# Storing Encrypted Data Using Python & SQLite3\n",
    "\n",
    "In this notebook we will encrypt a plain text file and store it in a database. We will then retrieve the encrypted data from the database and decrypt it using a saved key.\n",
    "\n",
    "## Introducing cryptography\n",
    "\n",
    "**Cryptograph** involves creating codes to keep information secret ([techopedia](https://www.techopedia.com/definition/1770/cryptography)). Here, we will make use of **symmetric encryption**. What's that? Consider the diagram below:\n",
    "\n",
    "```\n",
    "            message\n",
    "Alice -------------------> Bob\n",
    "               |\n",
    "              Eve\n",
    "\n",
    "```\n",
    "Here, Alice (the **sender**) wants to send Bob (the **receiver**) a **message**. This message, however, may be intercepted by Eve (the *eaves*dropping **adversary**). How can Alice and Bob ensure that their message can be securely sent and received?\n",
    "\n",
    "\n",
    "```\n",
    "            message\n",
    "Alice -------------------> Bob\n",
    "(KEY)          |          (KEY)\n",
    "              Eve\n",
    "\n",
    "```\n",
    "\n",
    "One solution is for Alice and Bob to share some secret **key**. Only those with a correct key can decrypt the contents of *message*. This approach is called *symmetric* encryption because both \"sides\" of the message, Alice and Bob, share the same key. \n",
    "\n",
    "## Preparing a message\n",
    "\n",
    "The contents of a plain text file (`sample_message.txt`) are printed below:"
   ]
  },
  {
   "cell_type": "code",
   "execution_count": 81,
   "metadata": {},
   "outputs": [
    {
     "name": "stdout",
     "output_type": "stream",
     "text": [
      "This is a message to be encrypted.\n",
      "Here is a second message.\n",
      "Foo bar baz.\n",
      "FoO bar baz.\n",
      "Foot boot butt.\n"
     ]
    }
   ],
   "source": [
    "with open(\"./sample_message.txt\", \"r\") as f:\n",
    "    for line in f:\n",
    "        print(line.strip())"
   ]
  },
  {
   "cell_type": "markdown",
   "metadata": {},
   "source": [
    "This will be our message.\n",
    "\n",
    "## Encryption with Python\n",
    "\n",
    "We will make use of Python's [cryptography](https://cryptography.io/en/latest/) to encrypt and decrypt our data."
   ]
  },
  {
   "cell_type": "code",
   "execution_count": 98,
   "metadata": {},
   "outputs": [
    {
     "name": "stdout",
     "output_type": "stream",
     "text": [
      "This is the decrypted string: b'this is a test'\n"
     ]
    }
   ],
   "source": [
    "from cryptography.fernet import Fernet\n",
    "\n",
    "# You will have to save this key to unencrypt your data later\n",
    "key = Fernet.generate_key()\n",
    "fernet = Fernet(key)\n",
    "\n",
    "token = fernet.encrypt(b\"this is a test\")\n",
    "print(f'This is the decrypted string: {fernet.decrypt(token)}')"
   ]
  },
  {
   "cell_type": "markdown",
   "metadata": {},
   "source": [
    "Note the `b` before \"this is a string\". We have to convert Python 3's usual strings into binary before applying encryption to them. This can be done by opening our plain text file in binary mode."
   ]
  },
  {
   "cell_type": "code",
   "execution_count": 99,
   "metadata": {},
   "outputs": [],
   "source": [
    "# Save all lines of our (short) file to memory\n",
    "binary_lines = []\n",
    "\n",
    "with open(\"./sample_message.txt\", \"rb\") as f:\n",
    "    for line in f:\n",
    "        binary_lines.append(line)\n",
    "\n",
    "# Encrypt each of these lines and append them to another list \n",
    "encrypted_binary_lines = []\n",
    "\n",
    "with open(\"./output.txt\", \"wb\") as f:\n",
    "    for line in binary_lines:\n",
    "        encrypted_binary_lines.append(fernet.encrypt(line))"
   ]
  },
  {
   "cell_type": "markdown",
   "metadata": {},
   "source": [
    "We now have the contents of our file `sample_message.txt` encrypted in our variable `encrypted_binary_lines`."
   ]
  },
  {
   "cell_type": "markdown",
   "metadata": {},
   "source": [
    "## Storing encrypted data in a database\n",
    "\n",
    "Let's score encrypted data in an SQLite3 database (because I'm practicing using them).\n",
    "\n",
    "Below, while our table `secrets` has two columns, one for a message ID (corresponds to line number) and another for the message itself."
   ]
  },
  {
   "cell_type": "code",
   "execution_count": 100,
   "metadata": {},
   "outputs": [],
   "source": [
    "import sqlite3\n",
    "conn = sqlite3.connect('example.db')\n",
    "c = conn.cursor()\n",
    "\n",
    "# Make a table\n",
    "c.execute('''create table secrets\n",
    "             (id integer primary key, message text)''')\n",
    "\n",
    "# Insert our encrypted data into the table\n",
    "messages = [(n + 1, v) for n, v in enumerate(encrypted_binary_lines)]\n",
    "c.executemany('insert into secrets values (?,?)', messages)\n",
    "\n",
    "# Save (commit) the changes and close our connection\n",
    "conn.commit()\n",
    "conn.close()"
   ]
  },
  {
   "cell_type": "markdown",
   "metadata": {},
   "source": [
    "Now, let's access our encrypted data from the SQLite database we just made. First, let's do this using the `sqlite` command on the command line. We'll view our encrypted data this way.\n",
    "\n",
    "```\n",
    "sqlite> .tables\n",
    "secrets\n",
    "sqlite> .schema secrets\n",
    "CREATE TABLE secrets\n",
    "             (id integer primary key, message text);\n",
    "```\n",
    "\n",
    "The rows of our table (we'll look at all of them since there aren't so many):\n",
    "\n",
    "```\n",
    "sqlite> select * from secrets;\n",
    "```\n",
    "\n",
    "This command should return all of our id keys and encrypted messages. Here's what it looked like with my key:\n",
    "\n",
    "```\n",
    "0|gAAAAABcT8V1OAOZqxJRc0aZQ48wVqxLKNvtKF8Dg_d1-HE4Zro9RQyhawcxhsxpqFzCzSDmdcnnOoW8bwJX31mS1aDdgS_sOVkfLlniqcmzd093kOOvdbbntuB0eHqbFKK7oCdlHYBz\n",
    "1|gAAAAABcT8V1mNIafLBG-BG5HOpvGpQpJw4pH9CIkBTyl8vG7Fi4PrjnhB8W-YP7Bn80bb0LIRFTsNa_t6VXr8teKqXbQirAOIo2IKPHzRFloulw1aBIT0Y=\n",
    "2|gAAAAABcT8V1Fgo-3oSUpr3gpKD1SmWpBAjtvu-59RjHd6ytKzAqJNNzayX8aWQ4phbqqNhxSMZIikHXvoVe_XaddSxRGzQgoQ==\n",
    "3|gAAAAABcT8V1hk6PmprQBrW8kuZCa8tWtHEdkNzFnCjkV4B3KTFLvA-V5RTBnZQSxhfX5lo4W5Lz2LYDc8UsPT5PhAT3xgUB1g==\n",
    "4|gAAAAABcT8V1jAblxTZuD4FTClCLzu4IUkoe81L-U2vOhPWfzJwWq9bcpmDnE51jG2Umf29wP39uTksKlcmiwRDRPeJdgMIKmQ==\n",
    "```\n",
    "\n",
    "Looks adequately encrypted to me. Let's go decrypt these things using Python and the `fernet` key we made earlier."
   ]
  },
  {
   "cell_type": "code",
   "execution_count": 101,
   "metadata": {},
   "outputs": [
    {
     "name": "stdout",
     "output_type": "stream",
     "text": [
      "b'This is a message to be encrypted.\\n'\n",
      "b'Here is a second message.\\n'\n",
      "b'Foo bar baz.\\n'\n",
      "b'FoO bar baz.\\n'\n",
      "b'Foot boot butt.'\n"
     ]
    }
   ],
   "source": [
    "# Check to see if our message was stored successfully\n",
    "conn = sqlite3.connect('example.db')\n",
    "c = conn.cursor()\n",
    "\n",
    "c.execute('select * from secrets')\n",
    "rows = c.fetchall()\n",
    "\n",
    "for row in rows:\n",
    "    print(fernet.decrypt(row[1]))"
   ]
  },
  {
   "cell_type": "markdown",
   "metadata": {},
   "source": [
    "Cool beans! Our messages, stored encrypted in our database (`example.db`), are now decrypted!\n",
    "\n",
    "## Saving our key, decrypting our data gain\n",
    "\n",
    "Before leaving, let's save our key. "
   ]
  },
  {
   "cell_type": "code",
   "execution_count": 104,
   "metadata": {},
   "outputs": [],
   "source": [
    "with open ('my_key.txt', 'wb') as f:\n",
    "    f.write(key)"
   ]
  },
  {
   "cell_type": "markdown",
   "metadata": {},
   "source": [
    "Our key is now stored in the file `my_key.txt`. We can load the data from this file to acess our encrypted data later."
   ]
  },
  {
   "cell_type": "code",
   "execution_count": 106,
   "metadata": {},
   "outputs": [
    {
     "name": "stdout",
     "output_type": "stream",
     "text": [
      "b'This is a message to be encrypted.\\n'\n"
     ]
    }
   ],
   "source": [
    "with open('my_key.txt', 'rb') as f:\n",
    "    fernet_key_returns = Fernet(f.read())\n",
    "    \n",
    "    conn = sqlite3.connect('example.db')\n",
    "    c = conn.cursor()\n",
    "    \n",
    "    # Read a line from database\n",
    "    c.execute('select * from secrets where id=?', (1,))\n",
    "    msg = c.fetchone()\n",
    "    \n",
    "    print(fernet_key_returns.decrypt(msg[1]))"
   ]
  },
  {
   "cell_type": "markdown",
   "metadata": {},
   "source": [
    "## Summary\n",
    "\n",
    "Here, without getting into the difficult details of what cryptography is and how it is done, we encrypted some data and stored it in a SQLite3 database. Then, we retrieved this data using a saved key.\n",
    "\n",
    "If you were feeling sneaky, you could give your friend a copy of this key and send them encrypted data in a file like `example.db`. Even if some people broke into your private email server and stole `example.db` from you or your friend, without the key, they could not read the contents of `example.db`. Whooaaaa...!"
   ]
  },
  {
   "cell_type": "markdown",
   "metadata": {},
   "source": [
    "## Other Notes\n",
    "\n",
    "Here, we stored encrypted messages within an unencypted database. It looks like the [SQLite Encryption Extension](https://www.sqlite.org/see/doc/trunk/www/readme.wiki) (SEE) is a way to encrypt the entire database.\n",
    "\n",
    "To run this code (again), you may have to delete the `secrets` table previously created. Connect to `example.db` using SQLite:\n",
    "\n",
    "```\n",
    "$ sqlite3 example.db\n",
    "```\n",
    "\n",
    "...and then drop the `secrets` table.\n",
    "\n",
    "```\n",
    "sqlite> drop table secrets;\n",
    "```"
   ]
  },
  {
   "cell_type": "code",
   "execution_count": null,
   "metadata": {},
   "outputs": [],
   "source": []
  }
 ],
 "metadata": {
  "kernelspec": {
   "display_name": "Python 3",
   "language": "python",
   "name": "python3"
  },
  "language_info": {
   "codemirror_mode": {
    "name": "ipython",
    "version": 3
   },
   "file_extension": ".py",
   "mimetype": "text/x-python",
   "name": "python",
   "nbconvert_exporter": "python",
   "pygments_lexer": "ipython3",
   "version": "3.6.4"
  }
 },
 "nbformat": 4,
 "nbformat_minor": 2
}
